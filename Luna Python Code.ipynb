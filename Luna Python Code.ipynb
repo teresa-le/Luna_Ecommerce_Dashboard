{
 "cells": [
  {
   "cell_type": "code",
   "execution_count": 1,
   "id": "b2cb0271-2187-467f-aa86-d4ec89077342",
   "metadata": {},
   "outputs": [],
   "source": [
    "# import packages \n",
    "import pandas as pd\n"
   ]
  },
  {
   "cell_type": "code",
   "execution_count": 5,
   "id": "11801882-5b40-4378-90be-7467a41dcd61",
   "metadata": {},
   "outputs": [],
   "source": [
    "# Read sheets into a dictionary of DataFrames\n",
    "dfs = pd.read_excel('Dataset.xlsx', sheet_name=['Order Details', 'Sales Target'], engine='openpyxl')\n"
   ]
  },
  {
   "cell_type": "code",
   "execution_count": 7,
   "id": "fc59b4a1-55c5-4780-854d-24811fbbd403",
   "metadata": {},
   "outputs": [
    {
     "name": "stdout",
     "output_type": "stream",
     "text": [
      "Saved Order Details as Order Details.csv\n",
      "Saved Sales Target as Sales Target.csv\n"
     ]
    }
   ],
   "source": [
    "for sheet_name, df in dfs.items():\n",
    "    # Create a CSV file name for each sheet\n",
    "    csv_file_name = f\"{sheet_name}.csv\"\n",
    "    \n",
    "    # Save the DataFrame to CSV\n",
    "    df.to_csv(csv_file_name, index=False)\n",
    "    \n",
    "    print(f\"Saved {sheet_name} as {csv_file_name}\")"
   ]
  }
 ],
 "metadata": {
  "kernelspec": {
   "display_name": "PythonData",
   "language": "python",
   "name": "pythondata"
  },
  "language_info": {
   "codemirror_mode": {
    "name": "ipython",
    "version": 3
   },
   "file_extension": ".py",
   "mimetype": "text/x-python",
   "name": "python",
   "nbconvert_exporter": "python",
   "pygments_lexer": "ipython3",
   "version": "3.9.13"
  }
 },
 "nbformat": 4,
 "nbformat_minor": 5
}
